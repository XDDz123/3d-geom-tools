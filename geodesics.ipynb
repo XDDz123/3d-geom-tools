{
 "cells": [
  {
   "cell_type": "code",
   "execution_count": null,
   "metadata": {},
   "outputs": [],
   "source": [
    "import sys,os\n",
    "\n",
    "RES_PATH = 'meshes' \n",
    "\n",
    "if not os.path.exists(RES_PATH):\n",
    "    print( 'cannot find meshes  please update RES_PATH')\n",
    "    exit(1)\n",
    "else:\n",
    "    pass\n",
    "\n",
    "import scipy as sp\n",
    "import numpy as np\n",
    "import meshplot as mp\n",
    "import trimesh\n",
    "import matplotlib.pyplot as plt\n",
    "import matplotlib.cm as cm\n",
    "from matplotlib.colors import Normalize\n",
    "from os import listdir\n",
    "from os.path import isfile, join\n",
    "from scipy.sparse import csc_matrix\n",
    "from scipy.sparse import lil_matrix\n",
    "import igl"
   ]
  },
  {
   "cell_type": "code",
   "execution_count": null,
   "metadata": {},
   "outputs": [],
   "source": [
    "def shade_by_color(mesh, color):\n",
    "    if len(color) == len(mesh.vertices):\n",
    "        shading = {\"width\": 300, \"height\": 300}\n",
    "        return mp.plot(mesh.vertices, mesh.faces, shading=shading, c=color, return_plot=True)\n",
    "    else:\n",
    "        shading = {\"width\": 300, \"height\": 300}\n",
    "        return mp.plot(mesh.vertices, mesh.faces, shading=shading, return_plot=True)"
   ]
  },
  {
   "cell_type": "code",
   "execution_count": null,
   "metadata": {},
   "outputs": [],
   "source": [
    "def find_boundary_vertices(mm):\n",
    "    # code from https://github.com/mikedh/trimesh/issues/1188\n",
    "    unique_edges = mm.edges[trimesh.grouping.group_rows(mm.edges_sorted, require_count=1)]\n",
    "    boundary_vertices = np.unique(unique_edges.flatten())\n",
    "    boundary_vertex_coord = mm.vertices[boundary_vertices]\n",
    "    return boundary_vertices, boundary_vertex_coord"
   ]
  },
  {
   "cell_type": "code",
   "execution_count": null,
   "metadata": {},
   "outputs": [],
   "source": [
    "def compute_lap_cot(mm, dirichlet=0):\n",
    "    num_vertices = mm.vertices.shape[0]\n",
    "    # create empty matrix to store laplace operator\n",
    "    C = np.zeros([num_vertices, num_vertices])\n",
    "    C = lil_matrix(C)\n",
    "    M = np.zeros(num_vertices)\n",
    "    boundary_vertices = 0\n",
    "\n",
    "    if dirichlet:\n",
    "        boundary_vertices, _ = find_boundary_vertices(mm)\n",
    "\n",
    "    # loop through all vertices\n",
    "    for i in range(num_vertices):\n",
    "        # get the neighbors of current vertex\n",
    "        neighbors = mm.vertex_neighbors[i]\n",
    "        # for each neighbor\n",
    "        for neighbor in neighbors:\n",
    "            angles = []\n",
    "            # find faces that contains the edge between vertex & current neighbor\n",
    "            # for each face\n",
    "            for face in mm.vertex_faces[i]:\n",
    "                # if not an empty entry\n",
    "                if face != -1:\n",
    "                    face_vertices = mm.faces[face]\n",
    "                    # if face share this edge\n",
    "                    if neighbor in face_vertices:\n",
    "                        # get angle of the third vertex\n",
    "                        # first find the index of the third vertex\n",
    "                        dup = list(face_vertices).copy()\n",
    "                        dummy_idx = [0, 1, 2]\n",
    "                        # removes the index of the current neighbor and vertex\n",
    "                        # the index remaining is the vertex we are looking for\n",
    "                        dummy_idx.remove(dup.index(neighbor))\n",
    "                        dummy_idx.remove(dup.index(i))\n",
    "                        assert len(dummy_idx) == 1\n",
    "                        # get the angle\n",
    "                        angles.append(mm.face_angles[face, dummy_idx[0]])\n",
    "                        \n",
    "            # get sum of cotans \n",
    "            # remove 0s if there are any\n",
    "            angles = [value for value in angles if value != 0]\n",
    "            angles = np.array(angles)\n",
    "            cot_angles_sum = np.sum(1 / np.tan(angles)) / 2\n",
    "\n",
    "            # construct C matrix\n",
    "            C[i, neighbor] = cot_angles_sum\n",
    "            C[i, i] -= cot_angles_sum  \n",
    "\n",
    "            if dirichlet:\n",
    "                if neighbor in boundary_vertices:\n",
    "                    C[i, neighbor] = 0\n",
    "\n",
    "        # for every connected face\n",
    "        for face in mm.vertex_faces[i]:\n",
    "            # if not an empty entry\n",
    "            if face != -1:\n",
    "                # sum up triangle areas connected to the current vertex\n",
    "                M[i] += mm.area_faces[face]\n",
    "                \n",
    "    # compute laplace beltrami operator\n",
    "    M = M / 3\n",
    "    M_inv = sp.sparse.spdiags([1 / M], np.array([0]))\n",
    "    C = C.tocsc()\n",
    "    L = M_inv @ C\n",
    "\n",
    "    return L, M, C"
   ]
  },
  {
   "cell_type": "code",
   "execution_count": null,
   "metadata": {},
   "outputs": [],
   "source": [
    "def compute_heat_flow(Lc, A, sources, t):\n",
    "    k_delta = np.zeros(len(A))\n",
    "    k_delta[sources] = 1\n",
    "    A = sp.sparse.spdiags([A], np.array([0]))\n",
    "    u = sp.sparse.linalg.spsolve(A - t * Lc, k_delta)\n",
    "    return u"
   ]
  },
  {
   "cell_type": "code",
   "execution_count": null,
   "metadata": {},
   "outputs": [],
   "source": [
    "def compute_gradient(mm, u, edges):\n",
    "    grad = np.zeros([len(mm.faces), 3])\n",
    "    for i in range(len(mm.faces)):\n",
    "        face = mm.faces[i]\n",
    "        delta_u_0 = u[face[0]] * np.cross(mm.face_normals[i], edges[i, 1, :])\n",
    "        delta_u_1 = u[face[1]] * np.cross(mm.face_normals[i], edges[i, 2, :])\n",
    "        delta_u_2 = u[face[2]] * np.cross(mm.face_normals[i], edges[i, 0, :])\n",
    "        delta_u = (1 / (2 * mm.area_faces[i])) * (delta_u_0 + delta_u_1 + delta_u_2)\n",
    "        grad[i, :] = delta_u\n",
    "    return grad"
   ]
  },
  {
   "cell_type": "code",
   "execution_count": null,
   "metadata": {},
   "outputs": [],
   "source": [
    "def compute_edges(mm):\n",
    "    edges = []\n",
    "    for face in mm.faces:\n",
    "        # counter clockwise\n",
    "        e0 = mm.vertices[face[1]] - mm.vertices[face[0]]\n",
    "        e1 = mm.vertices[face[2]] - mm.vertices[face[1]]\n",
    "        e2 = mm.vertices[face[0]] - mm.vertices[face[2]]\n",
    "        edges.append([e0, e1, e2])\n",
    "\n",
    "    return np.array(edges)"
   ]
  },
  {
   "cell_type": "code",
   "execution_count": null,
   "metadata": {},
   "outputs": [],
   "source": [
    "def cotan(angle):\n",
    "    cot = 1 / np.tan(angle)\n",
    "    return cot"
   ]
  },
  {
   "cell_type": "code",
   "execution_count": null,
   "metadata": {},
   "outputs": [],
   "source": [
    "def compute_divergence(mm, X):\n",
    "    divergence = np.zeros(len(mm.vertices))\n",
    "    for i in range(len(mm.faces)):\n",
    "        face = mm.faces[i]\n",
    "        face_angles = mm.face_angles[i]\n",
    "        verts = mm.vertices[face]\n",
    "        divergence[face[0]] += cotan(face_angles[2]) * np.dot((verts[1] - verts[0]), X[i]) + cotan(face_angles[1]) * np.dot((verts[2] - verts[0]), X[i])\n",
    "        divergence[face[1]] += cotan(face_angles[2]) * np.dot((verts[0] - verts[1]), X[i]) + cotan(face_angles[0]) * np.dot((verts[2] - verts[1]), X[i])\n",
    "        divergence[face[2]] += cotan(face_angles[1]) * np.dot((verts[0] - verts[2]), X[i]) + cotan(face_angles[0]) * np.dot((verts[1] - verts[2]), X[i])\n",
    "    divergence = divergence / 2\n",
    "    return divergence"
   ]
  },
  {
   "cell_type": "code",
   "execution_count": null,
   "metadata": {},
   "outputs": [],
   "source": [
    "def compute_time(mm, m):\n",
    "    h = np.mean(mm.edges_unique_length)\n",
    "    t = m * h ** 2\n",
    "    return t"
   ]
  },
  {
   "cell_type": "code",
   "execution_count": null,
   "metadata": {},
   "outputs": [],
   "source": [
    "def add_isolines(mm, plot, geodesics, num_lines):\n",
    "    isov, isoe = igl.isolines(mm.vertices, mm.faces, geodesics, num_lines)\n",
    "    plot.add_lines(isov[isoe][:, 0, :], isov[isoe][:, 1, :], shading={\"line_color\": \"white\"})"
   ]
  },
  {
   "cell_type": "code",
   "execution_count": null,
   "metadata": {},
   "outputs": [],
   "source": [
    "def visualize_gradient(mm, X):\n",
    "    centroids = np.zeros((mm.faces.shape[0], 3))\n",
    "    for i in range(mm.faces.shape[0]):\n",
    "        centroid = np.mean(mm.vertices[mm.faces[i]], axis=0)\n",
    "        centroids[i, :] = centroid\n",
    "\n",
    "    p = shade_by_color(mm, [])\n",
    "    p.add_lines(centroids, centroids + X*0.005, shading={\"line_color\": \"red\"})\n",
    "    "
   ]
  },
  {
   "cell_type": "code",
   "execution_count": null,
   "metadata": {},
   "outputs": [],
   "source": [
    "def compute_geodesics(mm, Lc, A, sources):\n",
    "    t = compute_time(mm, 1)\n",
    "    u = compute_heat_flow(Lc, A, sources, t)\n",
    "    edges = compute_edges(mm)\n",
    "    grad = compute_gradient(mm, u, edges)\n",
    "    X = (- grad.T / np.linalg.norm(grad, axis=1)).T\n",
    "    divergence = compute_divergence(mm, X)\n",
    "    geodesics = sp.sparse.linalg.spsolve(Lc, divergence)\n",
    "\n",
    "    return u, X, geodesics"
   ]
  },
  {
   "cell_type": "code",
   "execution_count": null,
   "metadata": {},
   "outputs": [],
   "source": [
    "def compute_geodesics_mixed(mm, Lc_D, Lc_N, A, sources):\n",
    "    t = compute_time(mm, 1)\n",
    "    u_D = compute_heat_flow(Lc_D, A, sources, t)\n",
    "    u_N = compute_heat_flow(Lc_N, A, sources, t)\n",
    "    u = (u_D + u_N) / 2\n",
    "    edges = compute_edges(mm)\n",
    "    grad = compute_gradient(mm, u, edges)\n",
    "    X = (- grad.T / np.linalg.norm(grad, axis=1)).T\n",
    "    divergence = compute_divergence(mm, X)\n",
    "    geodesics = sp.sparse.linalg.spsolve(Lc_N, divergence)\n",
    "\n",
    "    return u, X, geodesics\n"
   ]
  },
  {
   "cell_type": "code",
   "execution_count": null,
   "metadata": {},
   "outputs": [],
   "source": [
    "def convert_colors(geodesics):\n",
    "    # normalize to a color map\n",
    "    norm = Normalize(vmin=np.min(geodesics), vmax=np.max(geodesics))\n",
    "    cmap = cm.get_cmap('gist_heat_r')\n",
    "    colors = cmap(norm(geodesics))[:, :3]\n",
    "\n",
    "    return colors"
   ]
  },
  {
   "attachments": {},
   "cell_type": "markdown",
   "metadata": {},
   "source": [
    "# Geodesic Distance"
   ]
  },
  {
   "cell_type": "code",
   "execution_count": null,
   "metadata": {},
   "outputs": [],
   "source": [
    "# load mesh\n",
    "mesh = os.path.join(RES_PATH,'bunny.obj')\n",
    "assert os.path.exists(mesh), 'cannot found:'+ mesh \n",
    "mm = trimesh.load(mesh) \n",
    "\n",
    "L, A, Lc = compute_lap_cot(mm)\n"
   ]
  },
  {
   "cell_type": "code",
   "execution_count": null,
   "metadata": {},
   "outputs": [],
   "source": [
    "sources = [0]\n",
    "\n",
    "u, X, geodesics = compute_geodesics(mm, Lc, A, sources)\n",
    "colors = convert_colors(geodesics)\n",
    "p = shade_by_color(mm, colors)\n",
    "add_isolines(mm, p, geodesics, 30)"
   ]
  },
  {
   "cell_type": "code",
   "execution_count": null,
   "metadata": {},
   "outputs": [],
   "source": [
    "# plot heat flow\n",
    "p = shade_by_color(mm, u)"
   ]
  },
  {
   "cell_type": "code",
   "execution_count": null,
   "metadata": {},
   "outputs": [],
   "source": [
    "# plot gradient\n",
    "visualize_gradient(mm, X)"
   ]
  },
  {
   "attachments": {},
   "cell_type": "markdown",
   "metadata": {},
   "source": [
    "# Boundary Conditions"
   ]
  },
  {
   "cell_type": "code",
   "execution_count": null,
   "metadata": {},
   "outputs": [],
   "source": [
    "# load mesh\n",
    "mesh = os.path.join(RES_PATH,'sphere_small.obj')\n",
    "assert os.path.exists(mesh), 'cannot found:'+ mesh \n",
    "mm = trimesh.load(mesh) \n",
    "\n",
    "L, A, Lc = compute_lap_cot(mm, dirichlet=0)\n",
    "\n",
    "sources = [80]\n",
    "\n",
    "u, X, geodesics = compute_geodesics(mm, Lc, A, sources)\n",
    "colors = convert_colors(geodesics)\n",
    "p = shade_by_color(mm, colors)\n",
    "add_isolines(mm, p, geodesics, 30)"
   ]
  },
  {
   "cell_type": "code",
   "execution_count": null,
   "metadata": {},
   "outputs": [],
   "source": [
    "# load mesh\n",
    "mesh = os.path.join(RES_PATH,'half_sphere_small.obj')\n",
    "assert os.path.exists(mesh), 'cannot found:'+ mesh \n",
    "mm = trimesh.load(mesh) \n",
    "\n",
    "L, A, Lc = compute_lap_cot(mm, dirichlet=0)\n",
    "\n",
    "sources = [80]\n",
    "\n",
    "u, X, geodesics = compute_geodesics(mm, Lc, A, sources)\n",
    "colors = convert_colors(geodesics)\n",
    "p = shade_by_color(mm, colors)\n",
    "add_isolines(mm, p, geodesics, 30)"
   ]
  },
  {
   "cell_type": "code",
   "execution_count": null,
   "metadata": {},
   "outputs": [],
   "source": [
    "L, A, Lc = compute_lap_cot(mm, dirichlet=1)\n",
    "\n",
    "sources = [80]\n",
    "\n",
    "u, X, geodesics = compute_geodesics(mm, Lc, A, sources)\n",
    "colors = convert_colors(geodesics)\n",
    "p = shade_by_color(mm, colors)\n",
    "add_isolines(mm, p, geodesics, 25)\n"
   ]
  },
  {
   "cell_type": "code",
   "execution_count": null,
   "metadata": {},
   "outputs": [],
   "source": [
    "mesh = os.path.join(RES_PATH,'half_sphere_small.obj')\n",
    "assert os.path.exists(mesh), 'cannot found:'+ mesh \n",
    "mm = trimesh.load(mesh) \n",
    "\n",
    "L, A, Lc_N = compute_lap_cot(mm, dirichlet=0)\n",
    "L, A, Lc_D = compute_lap_cot(mm, dirichlet=1)\n",
    "\n",
    "sources = [80]\n",
    "\n",
    "u, X, geodesics = compute_geodesics_mixed(mm, Lc_D, Lc_N, A, sources)\n",
    "colors = convert_colors(geodesics)\n",
    "p = shade_by_color(mm, colors)\n",
    "add_isolines(mm, p, geodesics, 40)\n"
   ]
  },
  {
   "cell_type": "markdown",
   "metadata": {},
   "source": [
    "# Path Finding"
   ]
  },
  {
   "cell_type": "code",
   "execution_count": null,
   "metadata": {},
   "outputs": [],
   "source": [
    "def normalize(geodesics):\n",
    "    geodesics = (geodesics - np.min(geodesics)) / (np.max(geodesics) - np.min(geodesics))\n",
    "    return geodesics"
   ]
  },
  {
   "cell_type": "code",
   "execution_count": null,
   "metadata": {},
   "outputs": [],
   "source": [
    "def trace_shortest_path(mm, source, destination):\n",
    "    curr_vertex = source\n",
    "    L, A, Lc = compute_lap_cot(mm)\n",
    "    u, X, geodesics = compute_geodesics(mm, Lc, A, destination)\n",
    "    geodesics = normalize(geodesics)\n",
    "    path = [source]\n",
    "\n",
    "    while curr_vertex != destination:\n",
    "        neighbors = mm.vertex_neighbors[curr_vertex]\n",
    "        closest_neighbor = neighbors[np.argmin(geodesics[neighbors])]\n",
    "        curr_vertex = closest_neighbor\n",
    "        path.append(curr_vertex)\n",
    "\n",
    "    return geodesics, path"
   ]
  },
  {
   "cell_type": "code",
   "execution_count": null,
   "metadata": {},
   "outputs": [],
   "source": [
    "def plot_path(plot, path):\n",
    "    plot.add_lines(mm.vertices[path[:-1]], mm.vertices[path[1:]], shading={\"line_color\": \"blue\"})"
   ]
  },
  {
   "cell_type": "code",
   "execution_count": null,
   "metadata": {},
   "outputs": [],
   "source": [
    "# load mesh\n",
    "mesh = os.path.join(RES_PATH,'bunny.obj')\n",
    "assert os.path.exists(mesh), 'cannot found:'+ mesh \n",
    "mm = trimesh.load(mesh) \n",
    "\n",
    "geodesics, path = trace_shortest_path(mm, 0, 100)\n",
    "\n",
    "colors = convert_colors(geodesics)\n",
    "p = shade_by_color(mm, colors)\n",
    "add_isolines(mm, p, geodesics, 35)\n",
    "plot_path(p, path)"
   ]
  },
  {
   "cell_type": "code",
   "execution_count": null,
   "metadata": {},
   "outputs": [],
   "source": [
    "# terrain generated by https://touchterrain.geol.iastate.edu/\n",
    "# stl file edited in meshlab for cleaning and simplification\n",
    "mesh = os.path.join(RES_PATH,'topograph.obj')\n",
    "assert os.path.exists(mesh), 'cannot found:'+ mesh \n",
    "mm = trimesh.load(mesh) \n",
    "\n",
    "geodesics, path = trace_shortest_path(mm, 200, 2000)\n",
    "colors = convert_colors(geodesics)\n",
    "p = shade_by_color(mm, colors)\n",
    "# add_isolines(mm, p, geodesics, 30)\n",
    "plot_path(p, path)\n"
   ]
  },
  {
   "cell_type": "code",
   "execution_count": null,
   "metadata": {},
   "outputs": [],
   "source": [
    "mesh = os.path.join(RES_PATH,'terrain.obj')\n",
    "assert os.path.exists(mesh), 'cannot found:'+ mesh \n",
    "mm = trimesh.load(mesh) \n",
    "\n",
    "sources = [200, 2000]\n",
    "\n",
    "geodesics, path = trace_shortest_path(mm, 200, 1000)\n",
    "colors = convert_colors(geodesics)\n",
    "p = shade_by_color(mm, colors)\n",
    "# add_isolines(mm, p, geodesics, 30)\n",
    "plot_path(p, path)\n"
   ]
  },
  {
   "attachments": {},
   "cell_type": "markdown",
   "metadata": {},
   "source": [
    "# Noisy Data"
   ]
  },
  {
   "cell_type": "code",
   "execution_count": null,
   "metadata": {},
   "outputs": [],
   "source": [
    "def add_noise(k, mesh):\n",
    "    # make a duplicate mesh\n",
    "    dup = mesh.copy()\n",
    "    vertices = mesh.vertices\n",
    "    num_vertices = vertices.shape[0]\n",
    "\n",
    "    # compute sigma based on the size of the bounding box in each dimension\n",
    "    sigma_x = np.abs(np.min(vertices[:, 0]) - np.max(vertices[:, 0])) * k\n",
    "    sigma_y = np.abs(np.min(vertices[:, 1]) - np.max(vertices[:, 1])) * k\n",
    "    sigma_z = np.abs(np.min(vertices[:, 2]) - np.max(vertices[:, 2])) * k\n",
    "\n",
    "    # generate 0 mean gaussian noise with the sigma\n",
    "    x_noise = np.random.normal(0, sigma_x, num_vertices)\n",
    "    y_noise = np.random.normal(0, sigma_y, num_vertices)\n",
    "    z_noise = np.random.normal(0, sigma_z, num_vertices)\n",
    "    # add the generated noise to vertex positions\n",
    "    noise = np.stack((x_noise, y_noise, z_noise)).reshape(num_vertices, 3)\n",
    "    \n",
    "    # add noise\n",
    "    noisy_vertices = vertices + noise\n",
    "    dup.vertices = noisy_vertices\n",
    "\n",
    "    # return new noisy mesh\n",
    "    return dup"
   ]
  },
  {
   "cell_type": "code",
   "execution_count": null,
   "metadata": {},
   "outputs": [],
   "source": [
    "mesh = os.path.join(RES_PATH,'bunny.obj')\n",
    "assert os.path.exists(mesh), 'cannot found:'+ mesh \n",
    "mm = trimesh.load(mesh)\n",
    "noisy = add_noise(0.005, mm)\n",
    "\n",
    "L, A, Lc = compute_lap_cot(noisy)\n",
    "\n",
    "sources = [0]\n",
    "\n",
    "u, X, geodesics = compute_geodesics(noisy, Lc, A, sources)\n",
    "colors = convert_colors(geodesics)\n",
    "p = shade_by_color(noisy, colors)\n",
    "add_isolines(noisy, p, geodesics, 30)"
   ]
  },
  {
   "cell_type": "code",
   "execution_count": null,
   "metadata": {},
   "outputs": [],
   "source": [
    "mesh = os.path.join(RES_PATH,'bunny.obj')\n",
    "assert os.path.exists(mesh), 'cannot found:'+ mesh \n",
    "mm = trimesh.load(mesh)\n",
    "noisy = add_noise(0.01, mm)\n",
    "\n",
    "L, A, Lc = compute_lap_cot(noisy)\n",
    "\n",
    "sources = [0]\n",
    "\n",
    "u, X, geodesics = compute_geodesics(noisy, Lc, A, sources)\n",
    "colors = convert_colors(geodesics)\n",
    "p = shade_by_color(noisy, colors)\n",
    "add_isolines(noisy, p, geodesics, 30)"
   ]
  }
 ],
 "metadata": {
  "kernelspec": {
   "display_name": "base",
   "language": "python",
   "name": "python3"
  },
  "language_info": {
   "codemirror_mode": {
    "name": "ipython",
    "version": 3
   },
   "file_extension": ".py",
   "mimetype": "text/x-python",
   "name": "python",
   "nbconvert_exporter": "python",
   "pygments_lexer": "ipython3",
   "version": "3.10.8"
  },
  "orig_nbformat": 4
 },
 "nbformat": 4,
 "nbformat_minor": 2
}
