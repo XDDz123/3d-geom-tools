{
 "cells": [
  {
   "cell_type": "code",
   "execution_count": null,
   "metadata": {},
   "outputs": [],
   "source": [
    "import sys,os\n",
    "\n",
    "RES_PATH = 'meshes' \n",
    "\n",
    "if not os.path.exists(RES_PATH):\n",
    "    print( 'cannot find meshes  please update RES_PATH')\n",
    "    exit(1)\n",
    "else:\n",
    "    pass\n",
    "\n",
    "import igl\n",
    "import scipy as sp\n",
    "import numpy as np\n",
    "import meshplot as mp\n",
    "import trimesh\n",
    "import matplotlib.pyplot as plt\n",
    "import matplotlib.cm as cm\n",
    "from matplotlib.colors import Normalize\n",
    "from os import listdir\n",
    "from os.path import isfile, join\n",
    "from scipy.sparse import csc_matrix\n",
    "from scipy.sparse import lil_matrix"
   ]
  },
  {
   "cell_type": "markdown",
   "metadata": {},
   "source": [
    "# 1. Uniform Laplace"
   ]
  },
  {
   "cell_type": "markdown",
   "metadata": {},
   "source": [
    "## Mean Curvature"
   ]
  },
  {
   "cell_type": "code",
   "execution_count": null,
   "metadata": {},
   "outputs": [],
   "source": [
    "def compute_lap_uniform(mesh):\n",
    "    num_vertices = mesh.vertices.shape[0]\n",
    "    # create empty matrix to store laplace operator\n",
    "    L = np.zeros([num_vertices, num_vertices])\n",
    "    # loop through all vertices\n",
    "    for i in range(num_vertices):\n",
    "        # get the neighbors of current vertex\n",
    "        neighbors = mm.vertex_neighbors[i]\n",
    "        # count the number of neighbors\n",
    "        num_neigbors = len(neighbors)\n",
    "        # set diagonal\n",
    "        L[i, i] = num_neigbors\n",
    "        # set neighbors to -1\n",
    "        for neighbor in neighbors:\n",
    "            L[i, neighbor] = -1\n",
    "        # divide by the number of neighbors\n",
    "        L[i, :] = L[i, :] / num_neigbors\n",
    "    L = csc_matrix(L)\n",
    "    return L"
   ]
  },
  {
   "cell_type": "code",
   "execution_count": null,
   "metadata": {},
   "outputs": [],
   "source": [
    "def compute_mean_curvature(L, vertices):\n",
    "    # compute mean curvature\n",
    "    mean_curvature = np.linalg.norm(L @ vertices, axis=1) / 2\n",
    "    # normalize to a color map\n",
    "    norm = Normalize(vmin=np.min(mean_curvature), vmax=np.max(mean_curvature))\n",
    "    cmap = cm.get_cmap('viridis')\n",
    "    colors = cmap(norm(mean_curvature))[:, :3]\n",
    "    \n",
    "    return mean_curvature, colors"
   ]
  },
  {
   "cell_type": "code",
   "execution_count": null,
   "metadata": {},
   "outputs": [],
   "source": [
    "def shade_by_color(mesh, color):\n",
    "    shading = {\"width\": 300, \"height\": 300}\n",
    "    pt = mp.plot(mesh.vertices, mesh.faces, shading=shading, c=color)"
   ]
  },
  {
   "cell_type": "code",
   "execution_count": null,
   "metadata": {},
   "outputs": [],
   "source": [
    "# load mesh\n",
    "mesh = os.path.join(RES_PATH,'bumpy-cube-small.obj')\n",
    "assert os.path.exists(mesh), 'cannot found:'+ mesh \n",
    "mm = trimesh.load(mesh) \n",
    "\n",
    "L = compute_lap_uniform(mm)\n",
    "mean_curvature, colors = compute_mean_curvature(L, mm.vertices)\n",
    "shade_by_color(mm, colors)"
   ]
  },
  {
   "cell_type": "markdown",
   "metadata": {},
   "source": [
    "## Gaussian Curvature "
   ]
  },
  {
   "cell_type": "code",
   "execution_count": null,
   "metadata": {},
   "outputs": [],
   "source": [
    "def compute_angle_area(vertices, vertex, neighbors):\n",
    "    # find the angle at the current vertex\n",
    "    # by taking the dot product between edges (as vectors)\n",
    "    vec1 = vertices[vertex] - mm.vertices[neighbors[0]]\n",
    "    vec2 = vertices[vertex] - mm.vertices[neighbors[1]]\n",
    "    vec1_normalized = vec1 / np.linalg.norm(vec1)\n",
    "    vec2_normalized = vec2 / np.linalg.norm(vec2)\n",
    "    angle = np.arccos(np.dot(vec1_normalized, vec2_normalized))\n",
    "\n",
    "    # compute the area of the triangle\n",
    "    # half cross product formula\n",
    "    area = np.linalg.norm(np.cross(vec1, vec2)) / 2\n",
    "    return angle, area"
   ]
  },
  {
   "cell_type": "code",
   "execution_count": null,
   "metadata": {},
   "outputs": [],
   "source": [
    "def compute_gauss_curvature(mm):\n",
    "    acc_angles = np.zeros(mm.vertices.shape[0])\n",
    "    acc_areas = np.zeros(mm.vertices.shape[0])\n",
    "\n",
    "    # for each vertex\n",
    "    for i in range(mm.vertices.shape[0]):\n",
    "        # get its connected faces\n",
    "        vertex_faces = mm.vertex_faces[i]\n",
    "        # for each connect face\n",
    "        for face in vertex_faces:\n",
    "            # if not an empty entry\n",
    "            if face != -1:\n",
    "                face_vertices = mm.faces[face]\n",
    "                dup = list(face_vertices).copy()\n",
    "                dup.remove(i)\n",
    "                # compute angle and area of current face at current vertex\n",
    "                angle, area = compute_angle_area(mm.vertices, i, dup)\n",
    "                \n",
    "                # using built in fns instead\n",
    "                #idx = np.argmin(np.abs(face_vertices - i))\n",
    "                #acc_angles[i] += mm.face_angles[face, idx]\n",
    "                #acc_areas[i] += mm.area_faces[face]\n",
    "\n",
    "                acc_angles[i] += angle\n",
    "                acc_areas[i] += area\n",
    "\n",
    "    # barycentric cell, area = 1/3 triangle areas\n",
    "    A = acc_areas * (1/3)\n",
    "    # compute gaussian curvature\n",
    "    gaussian_curvature = (2 * np.pi - acc_angles) / A\n",
    "\n",
    "    # normalize to a color map\n",
    "    norm = Normalize(vmin=np.min(gaussian_curvature), vmax=np.max(gaussian_curvature))\n",
    "    cmap = cm.get_cmap('viridis')\n",
    "    colors = cmap(norm(gaussian_curvature))[:, :3]\n",
    "\n",
    "    return gaussian_curvature, colors"
   ]
  },
  {
   "cell_type": "code",
   "execution_count": null,
   "metadata": {},
   "outputs": [],
   "source": [
    "# load mesh\n",
    "mesh = os.path.join(RES_PATH,'bumpy-cube-small.obj')\n",
    "assert os.path.exists(mesh), 'cannot found:'+ mesh \n",
    "mm = trimesh.load(mesh) \n",
    "\n",
    "gauss_curvature, colors = compute_gauss_curvature(mm)\n",
    "shade_by_color(mm, colors)"
   ]
  },
  {
   "cell_type": "markdown",
   "metadata": {},
   "source": [
    "## 3. Non-uniform (Discrete Laplace-Beltrami)"
   ]
  },
  {
   "cell_type": "code",
   "execution_count": null,
   "metadata": {},
   "outputs": [],
   "source": [
    "def compute_lap_cot(mm):\n",
    "    num_vertices = mm.vertices.shape[0]\n",
    "    # create empty matrix to store laplace operator\n",
    "    C = np.zeros([num_vertices, num_vertices])\n",
    "    C = lil_matrix(C)\n",
    "    M = np.zeros(num_vertices)\n",
    "\n",
    "    # loop through all vertices\n",
    "    for i in range(num_vertices):\n",
    "        # get the neighbors of current vertex\n",
    "        neighbors = mm.vertex_neighbors[i]\n",
    "        # for each neighbor\n",
    "        for neighbor in neighbors:\n",
    "            angles = []\n",
    "            # find faces that contains the edge between vertex & current neighbor\n",
    "            # for each face\n",
    "            for face in mm.vertex_faces[i]:\n",
    "                # if not an empty entry\n",
    "                if face != -1:\n",
    "                    face_vertices = mm.faces[face]\n",
    "                    # if face share this edge\n",
    "                    if neighbor in face_vertices:\n",
    "                        # get angle of the third vertex\n",
    "                        # first find the index of the third vertex\n",
    "                        dup = list(face_vertices).copy()\n",
    "                        dummy_idx = [0, 1, 2]\n",
    "                        # removes the index of the current neighbor and vertex\n",
    "                        # the index remaining is the vertex we are looking for\n",
    "                        dummy_idx.remove(dup.index(neighbor))\n",
    "                        dummy_idx.remove(dup.index(i))\n",
    "                        assert len(dummy_idx) == 1\n",
    "                        # get the angle\n",
    "                        angles.append(mm.face_angles[face, dummy_idx[0]])\n",
    "                        \n",
    "            # get sum of cotans \n",
    "            # remove 0s if there are any\n",
    "            angles = [value for value in angles if value != 0]\n",
    "            angles = np.array(angles)\n",
    "            cot_angles_sum = np.sum(1 / np.tan(angles)) / 2\n",
    "\n",
    "            # construct C matrix\n",
    "            C[i, neighbor] = cot_angles_sum\n",
    "            C[i, i] -= cot_angles_sum\n",
    "\n",
    "        # for every connected face\n",
    "        for face in mm.vertex_faces[i]:\n",
    "            # if not an empty entry\n",
    "            if face != -1:\n",
    "                # sum up triangle areas connected to the current vertex\n",
    "                M[i] += mm.area_faces[face]\n",
    "    \n",
    "    # compute laplace beltrami operator\n",
    "    M = M / 3\n",
    "    M_inv = sp.sparse.spdiags([1 / M], np.array([0]))\n",
    "    C = C.tocsc()\n",
    "    L = M_inv @ C\n",
    "\n",
    "    return L, M, C"
   ]
  },
  {
   "cell_type": "code",
   "execution_count": null,
   "metadata": {},
   "outputs": [],
   "source": [
    "# load mesh\n",
    "mesh = os.path.join(RES_PATH,'bumpy-cube-small.obj')\n",
    "assert os.path.exists(mesh), 'cannot found:'+ mesh \n",
    "mm = trimesh.load(mesh)\n",
    "\n",
    "L, M, C = compute_lap_cot(mm)\n",
    "mean_curvature, colors = compute_mean_curvature(L, mm.vertices)\n",
    "\n",
    "shade_by_color(mm, colors)"
   ]
  },
  {
   "cell_type": "markdown",
   "metadata": {},
   "source": [
    "# 4. Modal Analysis"
   ]
  },
  {
   "cell_type": "code",
   "execution_count": null,
   "metadata": {},
   "outputs": [],
   "source": [
    "def modal_analysis(mesh, k=200):\n",
    "    _, M, C = compute_lap_cot(mesh)\n",
    "    # https://www.cs.jhu.edu/~misha/ReadingSeminar/Papers/Vallet08.pdf\n",
    "    # equation (4)\n",
    "    hodge_star_inv = sp.sparse.spdiags([M ** (-0.5)], np.array([0]))\n",
    "    symmetric_lap = hodge_star_inv @ C @ hodge_star_inv\n",
    "    # compute eigne vectors, find k smallest \n",
    "    vals, vecs = sp.sparse.linalg.eigs(symmetric_lap, k, which='SM')\n",
    "    # section 2.4\n",
    "    # map into canonical basis\n",
    "    basis = hodge_star_inv @ vecs    \n",
    "    basis = basis.real\n",
    "\n",
    "    return basis, M"
   ]
  },
  {
   "cell_type": "code",
   "execution_count": null,
   "metadata": {},
   "outputs": [],
   "source": [
    "def reconstruction(mesh, k, basis, M):\n",
    "    new_vertices = np.zeros(mesh.vertices.shape)\n",
    "    for vec in basis[:,:k].T:\n",
    "        # equation (7) and equation (6)\n",
    "        new_vertices[:, 0] += np.sum(mesh.vertices[:, 0] * M * vec) * vec\n",
    "        new_vertices[:, 1] += np.sum(mesh.vertices[:, 1] * M * vec) * vec\n",
    "        new_vertices[:, 2] += np.sum(mesh.vertices[:, 2] * M * vec) * vec\n",
    "\n",
    "    return new_vertices"
   ]
  },
  {
   "cell_type": "code",
   "execution_count": null,
   "metadata": {},
   "outputs": [],
   "source": [
    "mesh = os.path.join(RES_PATH,'armadillo.obj')\n",
    "assert os.path.exists(mesh), 'cannot found:'+ mesh \n",
    "mm = trimesh.load(mesh)\n",
    "\n",
    "shading = {\"width\": 300, \"height\": 300}\n",
    "# compute the basis vectors\n",
    "basis, M = modal_analysis(mm)"
   ]
  },
  {
   "cell_type": "code",
   "execution_count": null,
   "metadata": {},
   "outputs": [],
   "source": [
    "# perform reconstruction\n",
    "new_vertices = reconstruction(mm, 100, basis, M)\n",
    "mp.plot(new_vertices, mm.faces, shading=shading)"
   ]
  },
  {
   "cell_type": "markdown",
   "metadata": {},
   "source": [
    "# 5. Explicit Laplacian Mesh Smoothing"
   ]
  },
  {
   "cell_type": "code",
   "execution_count": null,
   "metadata": {},
   "outputs": [],
   "source": [
    "mesh = os.path.join(RES_PATH,'smoothing/fandisk_ns.obj')\n",
    "assert os.path.exists(mesh), 'cannot found:'+ mesh \n",
    "mm = trimesh.load(mesh)"
   ]
  },
  {
   "cell_type": "code",
   "execution_count": null,
   "metadata": {},
   "outputs": [],
   "source": [
    "def explicit_smooth(mesh, itrs, lammy):\n",
    "    for i in range(itrs):\n",
    "        L, _, _ = compute_lap_cot(mesh)\n",
    "        new_vertices = mesh.vertices + lammy * L @ mesh.vertices\n",
    "        mesh.vertices = new_vertices"
   ]
  },
  {
   "cell_type": "code",
   "execution_count": null,
   "metadata": {},
   "outputs": [],
   "source": [
    "mm_dup = mm.copy()\n",
    "explicit_smooth(mm_dup, 4, 1e-3)"
   ]
  },
  {
   "cell_type": "code",
   "execution_count": null,
   "metadata": {},
   "outputs": [],
   "source": [
    "shading = {\"width\": 300, \"height\": 300}\n",
    "mp.plot(mm_dup.vertices, mm_dup.faces, shading=shading)"
   ]
  },
  {
   "cell_type": "markdown",
   "metadata": {},
   "source": [
    "# 6. Implicit Laplacian Mesh Smoothing"
   ]
  },
  {
   "cell_type": "code",
   "execution_count": null,
   "metadata": {},
   "outputs": [],
   "source": [
    "mesh = os.path.join(RES_PATH,'smoothing/fandisk_ns.obj')\n",
    "assert os.path.exists(mesh), 'cannot found:'+ mesh \n",
    "mm = trimesh.load(mesh)"
   ]
  },
  {
   "cell_type": "code",
   "execution_count": null,
   "metadata": {},
   "outputs": [],
   "source": [
    "def implicit_smooth(mesh, itrs, lammy):\n",
    "    for i in range(itrs):\n",
    "        _, M, C = compute_lap_cot(mesh)\n",
    "        M = sp.sparse.spdiags([M], np.array([0]))\n",
    "        # conjugate gradients takes in (N, 1) vector for b so processing one dimension at a time\n",
    "        # solving (M - lambda * C) P_(t-1) = M P_(t)\n",
    "        new_vertices_x, exit_code = sp.sparse.linalg.cg(M - lammy * C, M @ mesh.vertices[:,0])\n",
    "        assert exit_code == 0\n",
    "        new_vertices_y, exit_code = sp.sparse.linalg.cg(M - lammy * C, M @ mesh.vertices[:,1])\n",
    "        assert exit_code == 0\n",
    "        new_vertices_z, exit_code = sp.sparse.linalg.cg(M - lammy * C, M @ mesh.vertices[:,2])\n",
    "        assert exit_code == 0\n",
    "        mesh.vertices = np.stack([new_vertices_x, new_vertices_y, new_vertices_z]).T"
   ]
  },
  {
   "cell_type": "code",
   "execution_count": null,
   "metadata": {},
   "outputs": [],
   "source": [
    "mm_dup = mm.copy()\n",
    "implicit_smooth(mm_dup, 2, 1e-1)"
   ]
  },
  {
   "cell_type": "code",
   "execution_count": null,
   "metadata": {},
   "outputs": [],
   "source": [
    "shading = {\"width\": 300, \"height\": 300}\n",
    "mp.plot(mm_dup.vertices, mm_dup.faces, shading=shading)"
   ]
  },
  {
   "cell_type": "markdown",
   "metadata": {},
   "source": [
    "# 7. Denoising Performance Evaluation"
   ]
  },
  {
   "cell_type": "code",
   "execution_count": null,
   "metadata": {},
   "outputs": [],
   "source": [
    "def add_noise(k, mesh):\n",
    "    # make a duplicate mesh\n",
    "    dup = mesh.copy()\n",
    "    vertices = mesh.vertices\n",
    "    num_vertices = vertices.shape[0]\n",
    "\n",
    "    # compute sigma based on the size of the bounding box in each dimension\n",
    "    sigma_x = np.abs(np.min(vertices[:, 0]) - np.max(vertices[:, 0])) * k\n",
    "    sigma_y = np.abs(np.min(vertices[:, 1]) - np.max(vertices[:, 1])) * k\n",
    "    sigma_z = np.abs(np.min(vertices[:, 2]) - np.max(vertices[:, 2])) * k\n",
    "\n",
    "    # generate 0 mean gaussian noise with the sigma\n",
    "    x_noise = np.random.normal(0, sigma_x, num_vertices)\n",
    "    y_noise = np.random.normal(0, sigma_y, num_vertices)\n",
    "    z_noise = np.random.normal(0, sigma_z, num_vertices)\n",
    "    # add the generated noise to vertex positions\n",
    "    noise = np.stack((x_noise, y_noise, z_noise)).reshape(num_vertices, 3)\n",
    "    \n",
    "    # add noise\n",
    "    noisy_vertices = vertices + noise\n",
    "    dup.vertices = noisy_vertices\n",
    "\n",
    "    # return new noisy mesh\n",
    "    return dup"
   ]
  },
  {
   "cell_type": "code",
   "execution_count": null,
   "metadata": {},
   "outputs": [],
   "source": [
    "mesh = os.path.join(RES_PATH,'bunny.obj')\n",
    "assert os.path.exists(mesh), 'cannot found:'+ mesh \n",
    "mm = trimesh.load(mesh)\n",
    "noisy = add_noise(0.005, mm)"
   ]
  },
  {
   "cell_type": "code",
   "execution_count": null,
   "metadata": {},
   "outputs": [],
   "source": [
    "shading = {\"width\": 300, \"height\": 300}\n",
    "mp.plot(noisy.vertices, noisy.faces, shading=shading)"
   ]
  },
  {
   "cell_type": "code",
   "execution_count": null,
   "metadata": {},
   "outputs": [],
   "source": [
    "mm_dup = noisy.copy()\n",
    "implicit_smooth(mm_dup, 4, 3e-6)"
   ]
  },
  {
   "cell_type": "code",
   "execution_count": null,
   "metadata": {},
   "outputs": [],
   "source": [
    "shading = {\"width\": 300, \"height\": 300}\n",
    "mp.plot(mm_dup.vertices, mm_dup.faces, shading=shading)"
   ]
  }
 ],
 "metadata": {
  "kernelspec": {
   "display_name": "Python 3 (ipykernel)",
   "language": "python",
   "name": "python3"
  },
  "language_info": {
   "codemirror_mode": {
    "name": "ipython",
    "version": 3
   },
   "file_extension": ".py",
   "mimetype": "text/x-python",
   "name": "python",
   "nbconvert_exporter": "python",
   "pygments_lexer": "ipython3",
   "version": "3.11.5"
  },
  "vscode": {
   "interpreter": {
    "hash": "67bfac4f4aefe1c16f1836a62d55b6e6baa7aba1ac5ce70e93ee8e90eb4f073a"
   }
  }
 },
 "nbformat": 4,
 "nbformat_minor": 2
}
